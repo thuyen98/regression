{
 "cells": [
  {
   "cell_type": "markdown",
   "id": "d641a7cb-703f-4019-984c-6f76eb52bd08",
   "metadata": {
    "id": "d641a7cb-703f-4019-984c-6f76eb52bd08"
   },
   "source": [
    "## Rappels Modèle Linéaire Multiple"
   ]
  },
  {
   "cell_type": "markdown",
   "id": "2ef93ace-8c69-43f9-bf1d-f24eaa3a3cb3",
   "metadata": {
    "id": "2ef93ace-8c69-43f9-bf1d-f24eaa3a3cb3"
   },
   "source": [
    "* On suppose que l'on dispose d'observations indépendantes et identiquement distribuées,\n",
    "$(X_1,Y_1),\\ldots,(X_n,Y_n)$, avec $X_i = (X_i^{(1)},\\ldots,X_i^{(p)})^T \\in \\mathbb{R}^p$ et $Y_i \\in \\mathbb{R}$.\n",
    "\n",
    "* On cherche une fonction de régression $f$ **solution du critère des moindres carrés** :\n",
    "$$\n",
    "f^*  =  \n",
    "        \\arg \\min_{f \\in \\mathcal{F}} \\mathbb{E}\\Big[ \\big(Y - f(X) \\big)^2 \\Big]\n",
    "$$\n",
    "\n",
    "* On considère que $f$ est **linéaire** selon les composantes de $X \\in \\mathbb{R}^p$ :\n",
    "$$\n",
    "f(X) = \\beta_0 + \\sum_{j=1}^{p} \\beta_j X^{(j)}\n",
    "$$\n",
    "\n",
    "*  On **estime** les paramètres $\\beta$ (et donc $f$) en minimisant le critère des moindres carrés empiriques :\n",
    "$$\n",
    "\\hat{\\beta} = \\arg \\min \\left\\{\\frac{1}{n} \\sum_{i=1}^n \\Big(Y_i - \\beta_0 - \\beta_1 X_i^{(1)} - \\ldots -\\beta_p X_i^{(p)}\\Big)^2\\right\\}\n",
    "$$"
   ]
  },
  {
   "cell_type": "markdown",
   "id": "ad8102bf-a8ae-4a8b-a689-0eb1b11a622b",
   "metadata": {
    "id": "ad8102bf-a8ae-4a8b-a689-0eb1b11a622b"
   },
   "source": [
    "____"
   ]
  },
  {
   "cell_type": "markdown",
   "id": "fc3cf349-6068-486e-aa93-58a4df428285",
   "metadata": {
    "id": "fc3cf349-6068-486e-aa93-58a4df428285"
   },
   "source": [
    "# Objectif"
   ]
  },
  {
   "cell_type": "markdown",
   "id": "79b8d5f0-fc7c-40ac-aede-6cb490c0e552",
   "metadata": {
    "id": "79b8d5f0-fc7c-40ac-aede-6cb490c0e552"
   },
   "source": [
    "___\n",
    "> ***On va s'intéresser ici à la problématique de sélection de variables.***\n",
    "___"
   ]
  },
  {
   "cell_type": "markdown",
   "id": "58657d70-30f5-43d8-a1c4-f3a76c0f4000",
   "metadata": {
    "id": "58657d70-30f5-43d8-a1c4-f3a76c0f4000"
   },
   "source": [
    "Nous supposons que nous avons des observations $(X_i,Y_i)$ où $X_i$ appartient à un esapce de dimension\n",
    "assez grande mais où seules certaines dimensions parmi les $p$ ont une influence sur la prédiction de $Y$."
   ]
  },
  {
   "cell_type": "markdown",
   "id": "212229b9-9a1c-4d7e-ad34-896efd263e9c",
   "metadata": {
    "id": "212229b9-9a1c-4d7e-ad34-896efd263e9c"
   },
   "source": [
    "* D'une certaine façon nous supposons qu'il existe un sous ensemble d'indice $J \\subset \\{1,\\ldots,p\\}$ tel que :\n",
    "$$\n",
    "f(X) = \\beta_0 + \\sum_{j' \\in J} \\beta_{j'} X^{(j')}\n",
    "$$"
   ]
  },
  {
   "cell_type": "markdown",
   "id": "28bd1fa0-7fab-4df7-948e-5a1dad4abacb",
   "metadata": {
    "id": "28bd1fa0-7fab-4df7-948e-5a1dad4abacb"
   },
   "source": [
    "$\\Rightarrow$ *L'objectif va être de trouver des méthodes permettant de sélectionner les \"bonnes composantes\".*"
   ]
  },
  {
   "cell_type": "markdown",
   "id": "3b992343-0812-4f4c-9422-8e27c490e25d",
   "metadata": {
    "id": "3b992343-0812-4f4c-9422-8e27c490e25d"
   },
   "source": [
    "_____"
   ]
  },
  {
   "cell_type": "markdown",
   "id": "6be8b687-6a45-4b16-80ff-7be74a21eec6",
   "metadata": {
    "id": "6be8b687-6a45-4b16-80ff-7be74a21eec6"
   },
   "source": [
    "___"
   ]
  },
  {
   "cell_type": "markdown",
   "id": "b514f72a-1c0c-4472-8bac-855ed12ac89f",
   "metadata": {
    "id": "b514f72a-1c0c-4472-8bac-855ed12ac89f",
    "tags": []
   },
   "source": [
    "# Création d'un jeu de données\n",
    "1. Créez un vecteur $\\beta = (2,\\ldots,20)/5$.\n",
    "2. Annulez 10 coefficients de $\\beta$ de façon aléatoire (utilisez ``np.random.choice``)\n",
    "3. Créez une matrice de points normalement distribués de dimensions $(100,19)$ (utilisez ``np.random.normal``)\n",
    "4. Créez un vecteur d'observations\n",
    "\n",
    "    $$ Y = 1 + X\\beta + \\varepsilon$$\n",
    "      où\n",
    "    * $\\varepsilon \\sim \\mathcal{N}(0,\\sigma I)$ avec\n",
    "    * $\\sigma = 4$"
   ]
  },
  {
   "cell_type": "code",
   "execution_count": 1,
   "id": "0e09816d-861d-4682-bc7c-6692cb6b2b66",
   "metadata": {
    "colab": {
     "base_uri": "https://localhost:8080/"
    },
    "executionInfo": {
     "elapsed": 475,
     "status": "ok",
     "timestamp": 1737448967925,
     "user": {
      "displayName": "Vincent Feuillard",
      "userId": "08003397047991684898"
     },
     "user_tz": -60
    },
    "id": "0e09816d-861d-4682-bc7c-6692cb6b2b66",
    "outputId": "dc935a0e-6aad-4587-eda1-a38e7932bc93"
   },
   "outputs": [
    {
     "name": "stdout",
     "output_type": "stream",
     "text": [
      "[0.4 0.6 0.8 1.  1.2 1.4 1.6 1.8 2.  2.2 2.4 2.6 2.8 3.  3.2 3.4 3.6 3.8\n",
      " 4. ]\n"
     ]
    }
   ],
   "source": [
    "import numpy as np\n",
    "\n",
    "beta = np.arange(2, 21)/5\n",
    "print(beta)"
   ]
  },
  {
   "cell_type": "code",
   "execution_count": 2,
   "id": "_f8DqNm5tQ7Z",
   "metadata": {
    "colab": {
     "base_uri": "https://localhost:8080/"
    },
    "executionInfo": {
     "elapsed": 268,
     "status": "ok",
     "timestamp": 1737448977816,
     "user": {
      "displayName": "Vincent Feuillard",
      "userId": "08003397047991684898"
     },
     "user_tz": -60
    },
    "id": "_f8DqNm5tQ7Z",
    "outputId": "15c8bed0-380c-4b02-f46e-f44b9a54d967"
   },
   "outputs": [
    {
     "data": {
      "text/plain": [
       "array([0. , 0. , 0.8, 0. , 1.2, 0. , 1.6, 1.8, 0. , 2.2, 2.4, 0. , 2.8,\n",
       "       0. , 3.2, 0. , 0. , 0. , 4. ])"
      ]
     },
     "execution_count": 2,
     "metadata": {},
     "output_type": "execute_result"
    }
   ],
   "source": [
    "np.random.seed(42)\n",
    "ind_null = np.random.choice(len(beta),10, replace=False)\n",
    "beta[ind_null] = 0\n",
    "beta"
   ]
  },
  {
   "cell_type": "code",
   "execution_count": 3,
   "id": "YsorqIZuZFXF",
   "metadata": {
    "executionInfo": {
     "elapsed": 267,
     "status": "ok",
     "timestamp": 1737448996739,
     "user": {
      "displayName": "Vincent Feuillard",
      "userId": "08003397047991684898"
     },
     "user_tz": -60
    },
    "id": "YsorqIZuZFXF"
   },
   "outputs": [],
   "source": [
    "ind_non_null = np.setdiff1d(np.arange(len(beta)),ind_null)\n",
    "beta[ind_null] = 0\n",
    "\n",
    "#X = np.random.uniform(low=0.0, high=1.0, size=(100,19))\n",
    "X = np.random.normal(size=(100,19))\n",
    "epsilon = np.random.normal(size=100,scale=4)\n",
    "intercept = np.ones(100)\n"
   ]
  },
  {
   "cell_type": "code",
   "execution_count": 4,
   "id": "ZbiuK3OsZS6g",
   "metadata": {
    "executionInfo": {
     "elapsed": 244,
     "status": "ok",
     "timestamp": 1737449000830,
     "user": {
      "displayName": "Vincent Feuillard",
      "userId": "08003397047991684898"
     },
     "user_tz": -60
    },
    "id": "ZbiuK3OsZS6g"
   },
   "outputs": [],
   "source": [
    "Y = intercept + X@beta.transpose()+epsilon"
   ]
  },
  {
   "cell_type": "code",
   "execution_count": 6,
   "id": "46AoR7etB_Mc",
   "metadata": {
    "colab": {
     "base_uri": "https://localhost:8080/"
    },
    "executionInfo": {
     "elapsed": 261,
     "status": "ok",
     "timestamp": 1737449029263,
     "user": {
      "displayName": "Vincent Feuillard",
      "userId": "08003397047991684898"
     },
     "user_tz": -60
    },
    "id": "46AoR7etB_Mc",
    "outputId": "a1e681e5-50e5-4d28-85b1-551726a86e21"
   },
   "outputs": [
    {
     "data": {
      "text/plain": [
       "array([ -4.73344918,  -5.86635247,   4.25022014,   0.04057426,\n",
       "         1.75110083,   0.96569221,  -1.4273531 ,   2.71548565,\n",
       "        -6.94159044,   8.39405237,  -4.9845109 ,  -1.93277908,\n",
       "         0.60339252,  -2.99883067,   9.17145884,  -7.86794569,\n",
       "        -3.27614602,   7.45752484,   1.10388953,  -6.59912214,\n",
       "       -11.20296921,  19.28974701,  -1.32322939,  11.80473296,\n",
       "         3.51684907,   4.12586773,   8.03922736,  -2.54930298,\n",
       "         9.28889809,  -3.80474072,   0.27210669,   7.71537225,\n",
       "         0.0348489 ,  10.88599729,   5.6775138 ,   3.80753244,\n",
       "         6.907924  ,   6.81305484,  -8.63608749,  -9.09568582,\n",
       "        19.04465443,   0.91738144,   0.34833403,  16.78652551,\n",
       "        -5.28981786,  -6.31601187,   7.54565035,   1.07065446,\n",
       "         2.23368224,   6.94022858,   0.7734175 ,  -6.11622213,\n",
       "         4.87630614,  21.84795878,   5.18204009,   6.55346312,\n",
       "        12.0398987 ,  -9.06577522,  -8.4481702 ,  -4.58756098,\n",
       "         8.92488717,   6.92469271,   0.15111463,  17.61426404,\n",
       "        12.37745947,  -1.69407067,  -7.2857456 ,   1.72066309,\n",
       "        -0.18830793,   2.96891866,  -3.26316137,  -1.93204122,\n",
       "         9.7187035 ,   7.3462715 ,  -1.6662769 ,  -1.27790724,\n",
       "         4.46801097,   8.27236295,   1.26570015,  -1.58738494,\n",
       "        10.29156353,  10.60628169,   9.6171487 ,  -9.74681471,\n",
       "        12.72130365,  13.15211514, -12.27527314,  -2.43552457,\n",
       "         0.9969827 ,  13.00274012,  -0.97724393,  13.0899796 ,\n",
       "         5.61066473,   0.82872525, -13.25343065,  -4.99425093,\n",
       "        -4.05923976,  -8.14461492,   0.15447435, -17.7771267 ])"
      ]
     },
     "execution_count": 6,
     "metadata": {},
     "output_type": "execute_result"
    }
   ],
   "source": [
    "Y"
   ]
  },
  {
   "cell_type": "markdown",
   "id": "ee53739a-1dfc-4b73-a0be-c65fde71633e",
   "metadata": {
    "id": "ee53739a-1dfc-4b73-a0be-c65fde71633e"
   },
   "source": [
    "___\n",
    "# Ajustement d'un modèle de régression linéaire\n",
    "1. Ajustez un modèle de régression linéaire à l'aide de scikitlearn (``from sklearn.linear_model import LinearRegression``)\n",
    "2. Faire varier $\\sigma$ et interprétez le résultats\n",
    "3. Proposez une stratégie de sélection de variables"
   ]
  },
  {
   "cell_type": "code",
   "execution_count": 7,
   "id": "XF4pQHMza4BO",
   "metadata": {
    "executionInfo": {
     "elapsed": 6724,
     "status": "ok",
     "timestamp": 1737449039853,
     "user": {
      "displayName": "Vincent Feuillard",
      "userId": "08003397047991684898"
     },
     "user_tz": -60
    },
    "id": "XF4pQHMza4BO"
   },
   "outputs": [],
   "source": [
    "from sklearn.linear_model import LinearRegression"
   ]
  },
  {
   "cell_type": "code",
   "execution_count": 8,
   "id": "9B1EewiAa4na",
   "metadata": {
    "colab": {
     "base_uri": "https://localhost:8080/"
    },
    "executionInfo": {
     "elapsed": 247,
     "status": "ok",
     "timestamp": 1737449042573,
     "user": {
      "displayName": "Vincent Feuillard",
      "userId": "08003397047991684898"
     },
     "user_tz": -60
    },
    "id": "9B1EewiAa4na",
    "outputId": "b2ea2a8c-7b86-42a1-a53d-7df26b2a8f06"
   },
   "outputs": [
    {
     "name": "stdout",
     "output_type": "stream",
     "text": [
      "[ 0.17160519  0.32574809 -0.41171498 -0.0733864  -0.31979141 -0.51148331\n",
      " -0.22983791 -0.04150073  0.53368217  0.36730834]\n",
      "[0.49428244 0.68088332 1.05097757 2.43215046 2.25306493 2.92916654\n",
      " 2.48797472 2.78763985 4.13527168] [0.8 1.2 1.6 1.8 2.2 2.4 2.8 3.2 4. ]\n"
     ]
    }
   ],
   "source": [
    "LR = LinearRegression()\n",
    "LR.fit(X,Y)\n",
    "print(LR.coef_[ind_null])\n",
    "print(LR.coef_[ind_non_null],beta[ind_non_null])"
   ]
  },
  {
   "cell_type": "code",
   "execution_count": 9,
   "id": "16UoYwctbJJq",
   "metadata": {
    "executionInfo": {
     "elapsed": 269,
     "status": "ok",
     "timestamp": 1737449059435,
     "user": {
      "displayName": "Vincent Feuillard",
      "userId": "08003397047991684898"
     },
     "user_tz": -60
    },
    "id": "16UoYwctbJJq"
   },
   "outputs": [],
   "source": [
    "import pandas as pd"
   ]
  },
  {
   "cell_type": "code",
   "execution_count": 10,
   "id": "h0VCQQ99bRqC",
   "metadata": {
    "executionInfo": {
     "elapsed": 2,
     "status": "ok",
     "timestamp": 1737449059685,
     "user": {
      "displayName": "Vincent Feuillard",
      "userId": "08003397047991684898"
     },
     "user_tz": -60
    },
    "id": "h0VCQQ99bRqC"
   },
   "outputs": [],
   "source": [
    "def simu_XY(sigma,theta=beta) :\n",
    "\n",
    "    np.random.seed(42)\n",
    "    ind_null = np.random.choice(len(theta),10, replace=False)\n",
    "    theta[ind_null] = 0\n",
    "\n",
    "    #X = np.random.uniform(low=0.0, high=1.0, size=(100,19))\n",
    "    X = np.random.normal(size=(100,19))\n",
    "    epsilon = np.random.normal(size=100,scale=sigma)\n",
    "    intercept = np.ones(100)\n",
    "\n",
    "    Y = intercept + X@theta.transpose()+epsilon\n",
    "\n",
    "    return X,Y"
   ]
  },
  {
   "cell_type": "code",
   "execution_count": 11,
   "id": "MXzukGv0bC9o",
   "metadata": {
    "colab": {
     "base_uri": "https://localhost:8080/",
     "height": 662
    },
    "executionInfo": {
     "elapsed": 292,
     "status": "ok",
     "timestamp": 1737449061208,
     "user": {
      "displayName": "Vincent Feuillard",
      "userId": "08003397047991684898"
     },
     "user_tz": -60
    },
    "id": "MXzukGv0bC9o",
    "outputId": "f9690156-16c1-4aed-8c36-de7ac0534d93"
   },
   "outputs": [
    {
     "name": "stdout",
     "output_type": "stream",
     "text": [
      "0.7613645668047764\n"
     ]
    },
    {
     "data": {
      "application/vnd.google.colaboratory.intrinsic+json": {
       "summary": "{\n  \"name\": \")\",\n  \"rows\": 19,\n  \"fields\": [\n    {\n      \"column\": \"coef_\",\n      \"properties\": {\n        \"dtype\": \"number\",\n        \"std\": 1.3838333218482326,\n        \"min\": -0.5114833131441785,\n        \"max\": 4.13527167600787,\n        \"num_unique_values\": 19,\n        \"samples\": [\n          0.17160519094814597,\n          0.3257480895269847,\n          -0.4117149788236298\n        ],\n        \"semantic_type\": \"\",\n        \"description\": \"\"\n      }\n    },\n    {\n      \"column\": \"true\",\n      \"properties\": {\n        \"dtype\": \"number\",\n        \"std\": 1.3230303687841585,\n        \"min\": 0.0,\n        \"max\": 4.0,\n        \"num_unique_values\": 10,\n        \"samples\": [\n          3.2,\n          0.8,\n          2.2\n        ],\n        \"semantic_type\": \"\",\n        \"description\": \"\"\n      }\n    }\n  ]\n}",
       "type": "dataframe"
      },
      "text/html": [
       "\n",
       "  <div id=\"df-9a790524-2b54-42e6-9660-a8d7ed397b84\" class=\"colab-df-container\">\n",
       "    <div>\n",
       "<style scoped>\n",
       "    .dataframe tbody tr th:only-of-type {\n",
       "        vertical-align: middle;\n",
       "    }\n",
       "\n",
       "    .dataframe tbody tr th {\n",
       "        vertical-align: top;\n",
       "    }\n",
       "\n",
       "    .dataframe thead th {\n",
       "        text-align: right;\n",
       "    }\n",
       "</style>\n",
       "<table border=\"1\" class=\"dataframe\">\n",
       "  <thead>\n",
       "    <tr style=\"text-align: right;\">\n",
       "      <th></th>\n",
       "      <th>coef_</th>\n",
       "      <th>true</th>\n",
       "    </tr>\n",
       "  </thead>\n",
       "  <tbody>\n",
       "    <tr>\n",
       "      <th>0</th>\n",
       "      <td>0.171605</td>\n",
       "      <td>0.0</td>\n",
       "    </tr>\n",
       "    <tr>\n",
       "      <th>1</th>\n",
       "      <td>-0.073386</td>\n",
       "      <td>0.0</td>\n",
       "    </tr>\n",
       "    <tr>\n",
       "      <th>2</th>\n",
       "      <td>0.494282</td>\n",
       "      <td>0.8</td>\n",
       "    </tr>\n",
       "    <tr>\n",
       "      <th>3</th>\n",
       "      <td>-0.229838</td>\n",
       "      <td>0.0</td>\n",
       "    </tr>\n",
       "    <tr>\n",
       "      <th>4</th>\n",
       "      <td>0.680883</td>\n",
       "      <td>1.2</td>\n",
       "    </tr>\n",
       "    <tr>\n",
       "      <th>5</th>\n",
       "      <td>0.325748</td>\n",
       "      <td>0.0</td>\n",
       "    </tr>\n",
       "    <tr>\n",
       "      <th>6</th>\n",
       "      <td>1.050978</td>\n",
       "      <td>1.6</td>\n",
       "    </tr>\n",
       "    <tr>\n",
       "      <th>7</th>\n",
       "      <td>2.432150</td>\n",
       "      <td>1.8</td>\n",
       "    </tr>\n",
       "    <tr>\n",
       "      <th>8</th>\n",
       "      <td>-0.319791</td>\n",
       "      <td>0.0</td>\n",
       "    </tr>\n",
       "    <tr>\n",
       "      <th>9</th>\n",
       "      <td>2.253065</td>\n",
       "      <td>2.2</td>\n",
       "    </tr>\n",
       "    <tr>\n",
       "      <th>10</th>\n",
       "      <td>2.929167</td>\n",
       "      <td>2.4</td>\n",
       "    </tr>\n",
       "    <tr>\n",
       "      <th>11</th>\n",
       "      <td>-0.411715</td>\n",
       "      <td>0.0</td>\n",
       "    </tr>\n",
       "    <tr>\n",
       "      <th>12</th>\n",
       "      <td>2.487975</td>\n",
       "      <td>2.8</td>\n",
       "    </tr>\n",
       "    <tr>\n",
       "      <th>13</th>\n",
       "      <td>-0.041501</td>\n",
       "      <td>0.0</td>\n",
       "    </tr>\n",
       "    <tr>\n",
       "      <th>14</th>\n",
       "      <td>2.787640</td>\n",
       "      <td>3.2</td>\n",
       "    </tr>\n",
       "    <tr>\n",
       "      <th>15</th>\n",
       "      <td>0.533682</td>\n",
       "      <td>0.0</td>\n",
       "    </tr>\n",
       "    <tr>\n",
       "      <th>16</th>\n",
       "      <td>-0.511483</td>\n",
       "      <td>0.0</td>\n",
       "    </tr>\n",
       "    <tr>\n",
       "      <th>17</th>\n",
       "      <td>0.367308</td>\n",
       "      <td>0.0</td>\n",
       "    </tr>\n",
       "    <tr>\n",
       "      <th>18</th>\n",
       "      <td>4.135272</td>\n",
       "      <td>4.0</td>\n",
       "    </tr>\n",
       "  </tbody>\n",
       "</table>\n",
       "</div>\n",
       "    <div class=\"colab-df-buttons\">\n",
       "\n",
       "  <div class=\"colab-df-container\">\n",
       "    <button class=\"colab-df-convert\" onclick=\"convertToInteractive('df-9a790524-2b54-42e6-9660-a8d7ed397b84')\"\n",
       "            title=\"Convert this dataframe to an interactive table.\"\n",
       "            style=\"display:none;\">\n",
       "\n",
       "  <svg xmlns=\"http://www.w3.org/2000/svg\" height=\"24px\" viewBox=\"0 -960 960 960\">\n",
       "    <path d=\"M120-120v-720h720v720H120Zm60-500h600v-160H180v160Zm220 220h160v-160H400v160Zm0 220h160v-160H400v160ZM180-400h160v-160H180v160Zm440 0h160v-160H620v160ZM180-180h160v-160H180v160Zm440 0h160v-160H620v160Z\"/>\n",
       "  </svg>\n",
       "    </button>\n",
       "\n",
       "  <style>\n",
       "    .colab-df-container {\n",
       "      display:flex;\n",
       "      gap: 12px;\n",
       "    }\n",
       "\n",
       "    .colab-df-convert {\n",
       "      background-color: #E8F0FE;\n",
       "      border: none;\n",
       "      border-radius: 50%;\n",
       "      cursor: pointer;\n",
       "      display: none;\n",
       "      fill: #1967D2;\n",
       "      height: 32px;\n",
       "      padding: 0 0 0 0;\n",
       "      width: 32px;\n",
       "    }\n",
       "\n",
       "    .colab-df-convert:hover {\n",
       "      background-color: #E2EBFA;\n",
       "      box-shadow: 0px 1px 2px rgba(60, 64, 67, 0.3), 0px 1px 3px 1px rgba(60, 64, 67, 0.15);\n",
       "      fill: #174EA6;\n",
       "    }\n",
       "\n",
       "    .colab-df-buttons div {\n",
       "      margin-bottom: 4px;\n",
       "    }\n",
       "\n",
       "    [theme=dark] .colab-df-convert {\n",
       "      background-color: #3B4455;\n",
       "      fill: #D2E3FC;\n",
       "    }\n",
       "\n",
       "    [theme=dark] .colab-df-convert:hover {\n",
       "      background-color: #434B5C;\n",
       "      box-shadow: 0px 1px 3px 1px rgba(0, 0, 0, 0.15);\n",
       "      filter: drop-shadow(0px 1px 2px rgba(0, 0, 0, 0.3));\n",
       "      fill: #FFFFFF;\n",
       "    }\n",
       "  </style>\n",
       "\n",
       "    <script>\n",
       "      const buttonEl =\n",
       "        document.querySelector('#df-9a790524-2b54-42e6-9660-a8d7ed397b84 button.colab-df-convert');\n",
       "      buttonEl.style.display =\n",
       "        google.colab.kernel.accessAllowed ? 'block' : 'none';\n",
       "\n",
       "      async function convertToInteractive(key) {\n",
       "        const element = document.querySelector('#df-9a790524-2b54-42e6-9660-a8d7ed397b84');\n",
       "        const dataTable =\n",
       "          await google.colab.kernel.invokeFunction('convertToInteractive',\n",
       "                                                    [key], {});\n",
       "        if (!dataTable) return;\n",
       "\n",
       "        const docLinkHtml = 'Like what you see? Visit the ' +\n",
       "          '<a target=\"_blank\" href=https://colab.research.google.com/notebooks/data_table.ipynb>data table notebook</a>'\n",
       "          + ' to learn more about interactive tables.';\n",
       "        element.innerHTML = '';\n",
       "        dataTable['output_type'] = 'display_data';\n",
       "        await google.colab.output.renderOutput(dataTable, element);\n",
       "        const docLink = document.createElement('div');\n",
       "        docLink.innerHTML = docLinkHtml;\n",
       "        element.appendChild(docLink);\n",
       "      }\n",
       "    </script>\n",
       "  </div>\n",
       "\n",
       "\n",
       "<div id=\"df-fdcd9408-1987-43d0-9628-020225941a38\">\n",
       "  <button class=\"colab-df-quickchart\" onclick=\"quickchart('df-fdcd9408-1987-43d0-9628-020225941a38')\"\n",
       "            title=\"Suggest charts\"\n",
       "            style=\"display:none;\">\n",
       "\n",
       "<svg xmlns=\"http://www.w3.org/2000/svg\" height=\"24px\"viewBox=\"0 0 24 24\"\n",
       "     width=\"24px\">\n",
       "    <g>\n",
       "        <path d=\"M19 3H5c-1.1 0-2 .9-2 2v14c0 1.1.9 2 2 2h14c1.1 0 2-.9 2-2V5c0-1.1-.9-2-2-2zM9 17H7v-7h2v7zm4 0h-2V7h2v10zm4 0h-2v-4h2v4z\"/>\n",
       "    </g>\n",
       "</svg>\n",
       "  </button>\n",
       "\n",
       "<style>\n",
       "  .colab-df-quickchart {\n",
       "      --bg-color: #E8F0FE;\n",
       "      --fill-color: #1967D2;\n",
       "      --hover-bg-color: #E2EBFA;\n",
       "      --hover-fill-color: #174EA6;\n",
       "      --disabled-fill-color: #AAA;\n",
       "      --disabled-bg-color: #DDD;\n",
       "  }\n",
       "\n",
       "  [theme=dark] .colab-df-quickchart {\n",
       "      --bg-color: #3B4455;\n",
       "      --fill-color: #D2E3FC;\n",
       "      --hover-bg-color: #434B5C;\n",
       "      --hover-fill-color: #FFFFFF;\n",
       "      --disabled-bg-color: #3B4455;\n",
       "      --disabled-fill-color: #666;\n",
       "  }\n",
       "\n",
       "  .colab-df-quickchart {\n",
       "    background-color: var(--bg-color);\n",
       "    border: none;\n",
       "    border-radius: 50%;\n",
       "    cursor: pointer;\n",
       "    display: none;\n",
       "    fill: var(--fill-color);\n",
       "    height: 32px;\n",
       "    padding: 0;\n",
       "    width: 32px;\n",
       "  }\n",
       "\n",
       "  .colab-df-quickchart:hover {\n",
       "    background-color: var(--hover-bg-color);\n",
       "    box-shadow: 0 1px 2px rgba(60, 64, 67, 0.3), 0 1px 3px 1px rgba(60, 64, 67, 0.15);\n",
       "    fill: var(--button-hover-fill-color);\n",
       "  }\n",
       "\n",
       "  .colab-df-quickchart-complete:disabled,\n",
       "  .colab-df-quickchart-complete:disabled:hover {\n",
       "    background-color: var(--disabled-bg-color);\n",
       "    fill: var(--disabled-fill-color);\n",
       "    box-shadow: none;\n",
       "  }\n",
       "\n",
       "  .colab-df-spinner {\n",
       "    border: 2px solid var(--fill-color);\n",
       "    border-color: transparent;\n",
       "    border-bottom-color: var(--fill-color);\n",
       "    animation:\n",
       "      spin 1s steps(1) infinite;\n",
       "  }\n",
       "\n",
       "  @keyframes spin {\n",
       "    0% {\n",
       "      border-color: transparent;\n",
       "      border-bottom-color: var(--fill-color);\n",
       "      border-left-color: var(--fill-color);\n",
       "    }\n",
       "    20% {\n",
       "      border-color: transparent;\n",
       "      border-left-color: var(--fill-color);\n",
       "      border-top-color: var(--fill-color);\n",
       "    }\n",
       "    30% {\n",
       "      border-color: transparent;\n",
       "      border-left-color: var(--fill-color);\n",
       "      border-top-color: var(--fill-color);\n",
       "      border-right-color: var(--fill-color);\n",
       "    }\n",
       "    40% {\n",
       "      border-color: transparent;\n",
       "      border-right-color: var(--fill-color);\n",
       "      border-top-color: var(--fill-color);\n",
       "    }\n",
       "    60% {\n",
       "      border-color: transparent;\n",
       "      border-right-color: var(--fill-color);\n",
       "    }\n",
       "    80% {\n",
       "      border-color: transparent;\n",
       "      border-right-color: var(--fill-color);\n",
       "      border-bottom-color: var(--fill-color);\n",
       "    }\n",
       "    90% {\n",
       "      border-color: transparent;\n",
       "      border-bottom-color: var(--fill-color);\n",
       "    }\n",
       "  }\n",
       "</style>\n",
       "\n",
       "  <script>\n",
       "    async function quickchart(key) {\n",
       "      const quickchartButtonEl =\n",
       "        document.querySelector('#' + key + ' button');\n",
       "      quickchartButtonEl.disabled = true;  // To prevent multiple clicks.\n",
       "      quickchartButtonEl.classList.add('colab-df-spinner');\n",
       "      try {\n",
       "        const charts = await google.colab.kernel.invokeFunction(\n",
       "            'suggestCharts', [key], {});\n",
       "      } catch (error) {\n",
       "        console.error('Error during call to suggestCharts:', error);\n",
       "      }\n",
       "      quickchartButtonEl.classList.remove('colab-df-spinner');\n",
       "      quickchartButtonEl.classList.add('colab-df-quickchart-complete');\n",
       "    }\n",
       "    (() => {\n",
       "      let quickchartButtonEl =\n",
       "        document.querySelector('#df-fdcd9408-1987-43d0-9628-020225941a38 button');\n",
       "      quickchartButtonEl.style.display =\n",
       "        google.colab.kernel.accessAllowed ? 'block' : 'none';\n",
       "    })();\n",
       "  </script>\n",
       "</div>\n",
       "\n",
       "    </div>\n",
       "  </div>\n"
      ],
      "text/plain": [
       "       coef_  true\n",
       "0   0.171605   0.0\n",
       "1  -0.073386   0.0\n",
       "2   0.494282   0.8\n",
       "3  -0.229838   0.0\n",
       "4   0.680883   1.2\n",
       "5   0.325748   0.0\n",
       "6   1.050978   1.6\n",
       "7   2.432150   1.8\n",
       "8  -0.319791   0.0\n",
       "9   2.253065   2.2\n",
       "10  2.929167   2.4\n",
       "11 -0.411715   0.0\n",
       "12  2.487975   2.8\n",
       "13 -0.041501   0.0\n",
       "14  2.787640   3.2\n",
       "15  0.533682   0.0\n",
       "16 -0.511483   0.0\n",
       "17  0.367308   0.0\n",
       "18  4.135272   4.0"
      ]
     },
     "execution_count": 11,
     "metadata": {},
     "output_type": "execute_result"
    }
   ],
   "source": [
    "X,Y = simu_XY(4)\n",
    "LR.fit(X,Y)\n",
    "LR.coef_\n",
    "\n",
    "print(LR.score(X,Y))\n",
    "#print(LR.coef_[ind_null])\n",
    "pd.DataFrame(\n",
    "    np.array([\n",
    "        LR.coef_,\n",
    "        beta]).transpose(),\n",
    "    columns = [\"coef_\",\"true\"]\n",
    ")"
   ]
  },
  {
   "cell_type": "markdown",
   "id": "c6c480bf-d3ab-40b2-8440-f9fe67a42580",
   "metadata": {
    "id": "c6c480bf-d3ab-40b2-8440-f9fe67a42580"
   },
   "source": [
    "___"
   ]
  },
  {
   "cell_type": "markdown",
   "id": "28ac9a7e-3ea5-4ee5-bbb8-828a2211a993",
   "metadata": {
    "id": "28ac9a7e-3ea5-4ee5-bbb8-828a2211a993",
    "tags": []
   },
   "source": [
    "## Stratégie de Selction de variable \"Backward stepwise\""
   ]
  },
  {
   "cell_type": "markdown",
   "id": "b606b837-b940-4fdf-8875-1c18f42a92cb",
   "metadata": {
    "id": "b606b837-b940-4fdf-8875-1c18f42a92cb"
   },
   "source": [
    "____\n",
    "**Backward stepwise selection**\n",
    "___\n",
    ">\n",
    ">1. Soit $\\mathcal{M}_p$ le modèle complet avec tous les prédicteurs\n",
    ">\n",
    ">2. Pour $k$ variant de $p$ à $1$ :\n",
    ">\n",
    ">    a) Préparer un échantillon d'apprentissage et de validation\n",
    ">        \n",
    ">    b) Considérer tous les modèles qui contiennent tous les prédicteurs sauf $1$\n",
    ">    (autrement dit : tous les modèles qui contiennent k-1 prédicteurs)\n",
    ">\n",
    ">\n",
    ">    c) Choisir le meilleur de ces modèles (soit la plus petite erreur résiduelle, soit le meilleur $R^2$)\n",
    ">    (selon l'échantillon d'apprentissage). On le notera $\\mathcal{M}_{k-1}$.    \n",
    ">\n",
    ">    d) Calculer un critère d'erreur de prédiction de $\\mathcal{M}_{k-1}$ sur un échantillon de validation\n",
    ">\n",
    "> 3. Sélectionner le modèle $\\mathcal{M}_k$ avec la plus petite erreur de prédiction\n",
    "___"
   ]
  },
  {
   "cell_type": "markdown",
   "id": "b871e688-66fc-48cd-92f7-854c2a24b895",
   "metadata": {
    "id": "b871e688-66fc-48cd-92f7-854c2a24b895"
   },
   "source": [
    "4. Implémentez cette stratégie\n",
    "\n",
    "Commencez par implémenter une fonction réalisant les étapes 2 b) et 2 c)\n",
    "```python\n",
    "def backward_one_step(X,Y,estimator,scoring):\n",
    "    p = X.shape[1]\n",
    "    all_scores = []    \n",
    "    for j in range(p):\n",
    "\n",
    "      \n",
    "        ...\n",
    "        ...\n",
    "    return j_opt\n",
    "\n",
    "    \n",
    "```\n",
    "Elle prend en entrée :\n",
    "* $X$\n",
    "* $Y$\n",
    "* un estimator comme ``LinearRegression`` (de scikitlearn)\n",
    "* une fonction de score\n",
    "et qui retourne :\n",
    "* j_opt l'indice pour lequel le modèle est le \"meilleur\"\n",
    "\n",
    "On pourra s'aider de la fonction :``np.delete`` de la librarie numpy qui permet de supprimer la colonne d'une matrice\n",
    "On utilisera la fonction ``r2_score`` de sklearn.metrics\n",
    "\n",
    "\n"
   ]
  },
  {
   "cell_type": "code",
   "execution_count": 12,
   "id": "XuZBfHG1a0Lo",
   "metadata": {
    "executionInfo": {
     "elapsed": 302,
     "status": "ok",
     "timestamp": 1737449124814,
     "user": {
      "displayName": "Vincent Feuillard",
      "userId": "08003397047991684898"
     },
     "user_tz": -60
    },
    "id": "XuZBfHG1a0Lo"
   },
   "outputs": [],
   "source": [
    "from sklearn.model_selection import train_test_split\n",
    "\n",
    "def backward_one_step(X,Y,estimator,scoring):\n",
    "    p = X.shape[1]\n",
    "    all_scores = []\n",
    "    for j in range(p):\n",
    "        X_tmp = np.delete(X, j, axis=1)\n",
    "        estimator.fit(X_tmp,Y)\n",
    "        Y_pred_tmp = estimator.predict(X_tmp)\n",
    "        score_tmp = scoring(Y,Y_pred_tmp)\n",
    "        all_scores += [score_tmp]\n",
    "    j_opt = np.argmin(all_scores)\n",
    "    return j_opt"
   ]
  },
  {
   "cell_type": "code",
   "execution_count": 13,
   "id": "dWKSfEu0br-2",
   "metadata": {
    "executionInfo": {
     "elapsed": 321,
     "status": "ok",
     "timestamp": 1737449125905,
     "user": {
      "displayName": "Vincent Feuillard",
      "userId": "08003397047991684898"
     },
     "user_tz": -60
    },
    "id": "dWKSfEu0br-2"
   },
   "outputs": [],
   "source": [
    "def backward_stepwise(X,Y,estimator,scoring):\n",
    "\n",
    "    p = X.shape[1]\n",
    "    my_list = list(range(p))\n",
    "\n",
    "    X_train, X_val, Y_train, Y_val = train_test_split(X, Y, test_size=0.2, random_state=42)\n",
    "\n",
    "    estimator.fit(X_train,Y_train)\n",
    "    Y_pred_val = estimator.predict(X_val)\n",
    "    all_scores = []\n",
    "\n",
    "    removed_list = []\n",
    "\n",
    "    for j in range(p-1):\n",
    "        X_train , Y_train = X,Y\n",
    "        X_val , Y_val = X,Y\n",
    "\n",
    "        j_iter = backward_one_step(X_train,Y_train,estimator,scoring)\n",
    "        X = np.delete(X, j_iter, axis=1)\n",
    "        removed_list += [my_list[j_iter]]\n",
    "        X_train = np.delete(X_train, j_iter, axis=1)\n",
    "        X_val = np.delete(X_val, j_iter, axis=1)\n",
    "\n",
    "        #print(j_iter,my_list[j_iter])\n",
    "        my_list = np.delete(my_list, j_iter)\n",
    "        #print(my_list)\n",
    "        estimator.fit(X_train,Y_train)\n",
    "\n",
    "        Y_pred_val = estimator.predict(X_val)\n",
    "        all_scores += [scoring(Y_val,Y_pred_val)]\n",
    "\n",
    "    return all_scores,removed_list\n"
   ]
  },
  {
   "cell_type": "code",
   "execution_count": 14,
   "id": "41uQ4HvCb0bb",
   "metadata": {
    "executionInfo": {
     "elapsed": 383,
     "status": "ok",
     "timestamp": 1737449128815,
     "user": {
      "displayName": "Vincent Feuillard",
      "userId": "08003397047991684898"
     },
     "user_tz": -60
    },
    "id": "41uQ4HvCb0bb"
   },
   "outputs": [],
   "source": [
    "from sklearn.metrics import r2_score\n",
    "res = backward_stepwise(X,Y,LinearRegression(),r2_score)"
   ]
  },
  {
   "cell_type": "code",
   "execution_count": 15,
   "id": "kg8oi6KockLN",
   "metadata": {
    "colab": {
     "base_uri": "https://localhost:8080/",
     "height": 430
    },
    "executionInfo": {
     "elapsed": 687,
     "status": "ok",
     "timestamp": 1737449129499,
     "user": {
      "displayName": "Vincent Feuillard",
      "userId": "08003397047991684898"
     },
     "user_tz": -60
    },
    "id": "kg8oi6KockLN",
    "outputId": "484afebd-fc99-437c-8922-f8c3620a0a7c"
   },
   "outputs": [
    {
     "data": {
      "image/png": "[encoded data removed]",
      "text/plain": [
       "<Figure size 640x480 with 1 Axes>"
      ]
     },
     "metadata": {},
     "output_type": "display_data"
    }
   ],
   "source": [
    "%matplotlib inline\n",
    "import matplotlib.pyplot as plt\n",
    "_ = plt.plot(res[0],'.-')\n",
    "_ = plt.xticks(ticks=range(len(res[1])), labels=res[1])"
   ]
  },
  {
   "cell_type": "code",
   "execution_count": 16,
   "id": "dOdJDS3Kdq7f",
   "metadata": {
    "colab": {
     "base_uri": "https://localhost:8080/"
    },
    "executionInfo": {
     "elapsed": 219,
     "status": "ok",
     "timestamp": 1737449182447,
     "user": {
      "displayName": "Vincent Feuillard",
      "userId": "08003397047991684898"
     },
     "user_tz": -60
    },
    "id": "dOdJDS3Kdq7f",
    "outputId": "aa4c0de6-bd65-41fc-c8e4-81f6fc33e23b"
   },
   "outputs": [
    {
     "data": {
      "text/plain": [
       "array([ 0,  1,  3,  5,  8, 11, 13, 15, 16, 17])"
      ]
     },
     "execution_count": 16,
     "metadata": {},
     "output_type": "execute_result"
    }
   ],
   "source": [
    "np.sort(ind_null)"
   ]
  },
  {
   "cell_type": "code",
   "execution_count": 17,
   "id": "bhGE-UohdW5K",
   "metadata": {
    "colab": {
     "base_uri": "https://localhost:8080/"
    },
    "executionInfo": {
     "elapsed": 247,
     "status": "ok",
     "timestamp": 1737449183610,
     "user": {
      "displayName": "Vincent Feuillard",
      "userId": "08003397047991684898"
     },
     "user_tz": -60
    },
    "id": "bhGE-UohdW5K",
    "outputId": "d28b924f-24fe-4620-e758-e75d1cf224a8"
   },
   "outputs": [
    {
     "data": {
      "text/plain": [
       "array([ 0,  1,  2,  3,  4,  8, 11, 15, 16, 17])"
      ]
     },
     "execution_count": 17,
     "metadata": {},
     "output_type": "execute_result"
    }
   ],
   "source": [
    "np.sort(res[1][-10:])"
   ]
  },
  {
   "cell_type": "markdown",
   "id": "8129da3e-9528-48ea-a79f-e99e89566144",
   "metadata": {
    "id": "8129da3e-9528-48ea-a79f-e99e89566144"
   },
   "source": [
    "___\n",
    "# Régression Ridge"
   ]
  },
  {
   "cell_type": "markdown",
   "id": "aaae1209-481a-488d-8626-3326dafd103f",
   "metadata": {
    "id": "aaae1209-481a-488d-8626-3326dafd103f"
   },
   "source": [
    "## Rappel \\& Principe\n",
    "\n",
    "Au lieu de chercher un sous ensemble de coefficients non nuls dans les $2^p$ sous-ensembles possibles, ***on peut directement construire un critère adapté au problème.***\n",
    "\n",
    "$\\Rightarrow$ Pour cela, **on ajoute un terme de régularisation qui va permettre de réduire la valeur des coefficients vers 0.** (*shrinkage methods*)\n",
    "\n",
    "* Pour la régression Ridge, on cherche à minimiser :\n",
    "$$\n",
    "\\hat{\\beta} = \\arg \\min \\left\\{\\sum_{i=1}^n \\Big(Y_i - \\beta_0 - \\beta_1 X_i^{(1)} - \\ldots -\\beta_p X_i^{(p)}\\Big)^2\n",
    "+\n",
    "\\lambda\n",
    "\\sum_{j=1}^p{\\beta_j}^2\n",
    "\\right\\}\n",
    "$$"
   ]
  },
  {
   "cell_type": "markdown",
   "id": "14832f69-7bbf-4a08-954f-b40f9da2b377",
   "metadata": {
    "id": "14832f69-7bbf-4a08-954f-b40f9da2b377"
   },
   "source": [
    "## Application\n",
    "\n",
    "a) Appliquer la régression Ridge (utilisez l'estimator ``Ridge`` de sklearn.linear_model)\n",
    "\n",
    "b) Visualiser l'évolotion de l'estimation des coefficients en fonction de la valeur de $\\lambda$"
   ]
  },
  {
   "cell_type": "markdown",
   "id": "02CH3yuc5LT7",
   "metadata": {
    "id": "02CH3yuc5LT7"
   },
   "source": [
    "![maxresdefault.jpg](data:image/jpeg;base64,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)"
   ]
  },
  {
   "cell_type": "code",
   "execution_count": null,
   "id": "zcD8ijWNh-8t",
   "metadata": {
    "id": "zcD8ijWNh-8t"
   },
   "outputs": [],
   "source": []
  },
  {
   "cell_type": "code",
   "execution_count": 18,
   "id": "xbmPrQo7d2b-",
   "metadata": {
    "executionInfo": {
     "elapsed": 379,
     "status": "ok",
     "timestamp": 1737449244181,
     "user": {
      "displayName": "Vincent Feuillard",
      "userId": "08003397047991684898"
     },
     "user_tz": -60
    },
    "id": "xbmPrQo7d2b-"
   },
   "outputs": [],
   "source": [
    "from sklearn.linear_model import Ridge"
   ]
  },
  {
   "cell_type": "code",
   "execution_count": 19,
   "id": "53lKxvW0d3I_",
   "metadata": {
    "executionInfo": {
     "elapsed": 3,
     "status": "ok",
     "timestamp": 1737449244516,
     "user": {
      "displayName": "Vincent Feuillard",
      "userId": "08003397047991684898"
     },
     "user_tz": -60
    },
    "id": "53lKxvW0d3I_"
   },
   "outputs": [],
   "source": [
    "ridge_reg = Ridge(alpha=100.)"
   ]
  },
  {
   "cell_type": "code",
   "execution_count": 20,
   "id": "rd8XpmPOiLei",
   "metadata": {
    "colab": {
     "base_uri": "https://localhost:8080/",
     "height": 80
    },
    "executionInfo": {
     "elapsed": 11,
     "status": "ok",
     "timestamp": 1737449245220,
     "user": {
      "displayName": "Vincent Feuillard",
      "userId": "08003397047991684898"
     },
     "user_tz": -60
    },
    "id": "rd8XpmPOiLei",
    "outputId": "f067d69e-a2da-406b-ec44-96057f29df49"
   },
   "outputs": [
    {
     "data": {
      "text/html": [
       "<style>#sk-container-id-1 {\n",
       "  /* Definition of color scheme common for light and dark mode */\n",
       "  --sklearn-color-text: #000;\n",
       "  --sklearn-color-text-muted: #666;\n",
       "  --sklearn-color-line: gray;\n",
       "  /* Definition of color scheme for unfitted estimators */\n",
       "  --sklearn-color-unfitted-level-0: #fff5e6;\n",
       "  --sklearn-color-unfitted-level-1: #f6e4d2;\n",
       "  --sklearn-color-unfitted-level-2: #ffe0b3;\n",
       "  --sklearn-color-unfitted-level-3: chocolate;\n",
       "  /* Definition of color scheme for fitted estimators */\n",
       "  --sklearn-color-fitted-level-0: #f0f8ff;\n",
       "  --sklearn-color-fitted-level-1: #d4ebff;\n",
       "  --sklearn-color-fitted-level-2: #b3dbfd;\n",
       "  --sklearn-color-fitted-level-3: cornflowerblue;\n",
       "\n",
       "  /* Specific color for light theme */\n",
       "  --sklearn-color-text-on-default-background: var(--sg-text-color, var(--theme-code-foreground, var(--jp-content-font-color1, black)));\n",
       "  --sklearn-color-background: var(--sg-background-color, var(--theme-background, var(--jp-layout-color0, white)));\n",
       "  --sklearn-color-border-box: var(--sg-text-color, var(--theme-code-foreground, var(--jp-content-font-color1, black)));\n",
       "  --sklearn-color-icon: #696969;\n",
       "\n",
       "  @media (prefers-color-scheme: dark) {\n",
       "    /* Redefinition of color scheme for dark theme */\n",
       "    --sklearn-color-text-on-default-background: var(--sg-text-color, var(--theme-code-foreground, var(--jp-content-font-color1, white)));\n",
       "    --sklearn-color-background: var(--sg-background-color, var(--theme-background, var(--jp-layout-color0, #111)));\n",
       "    --sklearn-color-border-box: var(--sg-text-color, var(--theme-code-foreground, var(--jp-content-font-color1, white)));\n",
       "    --sklearn-color-icon: #878787;\n",
       "  }\n",
       "}\n",
       "\n",
       "#sk-container-id-1 {\n",
       "  color: var(--sklearn-color-text);\n",
       "}\n",
       "\n",
       "#sk-container-id-1 pre {\n",
       "  padding: 0;\n",
       "}\n",
       "\n",
       "#sk-container-id-1 input.sk-hidden--visually {\n",
       "  border: 0;\n",
       "  clip: rect(1px 1px 1px 1px);\n",
       "  clip: rect(1px, 1px, 1px, 1px);\n",
       "  height: 1px;\n",
       "  margin: -1px;\n",
       "  overflow: hidden;\n",
       "  padding: 0;\n",
       "  position: absolute;\n",
       "  width: 1px;\n",
       "}\n",
       "\n",
       "#sk-container-id-1 div.sk-dashed-wrapped {\n",
       "  border: 1px dashed var(--sklearn-color-line);\n",
       "  margin: 0 0.4em 0.5em 0.4em;\n",
       "  box-sizing: border-box;\n",
       "  padding-bottom: 0.4em;\n",
       "  background-color: var(--sklearn-color-background);\n",
       "}\n",
       "\n",
       "#sk-container-id-1 div.sk-container {\n",
       "  /* jupyter's `normalize.less` sets `[hidden] { display: none; }`\n",
       "     but bootstrap.min.css set `[hidden] { display: none !important; }`\n",
       "     so we also need the `!important` here to be able to override the\n",
       "     default hidden behavior on the sphinx rendered scikit-learn.org.\n",
       "     See: https://github.com/scikit-learn/scikit-learn/issues/21755 */\n",
       "  display: inline-block !important;\n",
       "  position: relative;\n",
       "}\n",
       "\n",
       "#sk-container-id-1 div.sk-text-repr-fallback {\n",
       "  display: none;\n",
       "}\n",
       "\n",
       "div.sk-parallel-item,\n",
       "div.sk-serial,\n",
       "div.sk-item {\n",
       "  /* draw centered vertical line to link estimators */\n",
       "  background-image: linear-gradient(var(--sklearn-color-text-on-default-background), var(--sklearn-color-text-on-default-background));\n",
       "  background-size: 2px 100%;\n",
       "  background-repeat: no-repeat;\n",
       "  background-position: center center;\n",
       "}\n",
       "\n",
       "/* Parallel-specific style estimator block */\n",
       "\n",
       "#sk-container-id-1 div.sk-parallel-item::after {\n",
       "  content: \"\";\n",
       "  width: 100%;\n",
       "  border-bottom: 2px solid var(--sklearn-color-text-on-default-background);\n",
       "  flex-grow: 1;\n",
       "}\n",
       "\n",
       "#sk-container-id-1 div.sk-parallel {\n",
       "  display: flex;\n",
       "  align-items: stretch;\n",
       "  justify-content: center;\n",
       "  background-color: var(--sklearn-color-background);\n",
       "  position: relative;\n",
       "}\n",
       "\n",
       "#sk-container-id-1 div.sk-parallel-item {\n",
       "  display: flex;\n",
       "  flex-direction: column;\n",
       "}\n",
       "\n",
       "#sk-container-id-1 div.sk-parallel-item:first-child::after {\n",
       "  align-self: flex-end;\n",
       "  width: 50%;\n",
       "}\n",
       "\n",
       "#sk-container-id-1 div.sk-parallel-item:last-child::after {\n",
       "  align-self: flex-start;\n",
       "  width: 50%;\n",
       "}\n",
       "\n",
       "#sk-container-id-1 div.sk-parallel-item:only-child::after {\n",
       "  width: 0;\n",
       "}\n",
       "\n",
       "/* Serial-specific style estimator block */\n",
       "\n",
       "#sk-container-id-1 div.sk-serial {\n",
       "  display: flex;\n",
       "  flex-direction: column;\n",
       "  align-items: center;\n",
       "  background-color: var(--sklearn-color-background);\n",
       "  padding-right: 1em;\n",
       "  padding-left: 1em;\n",
       "}\n",
       "\n",
       "\n",
       "/* Toggleable style: style used for estimator/Pipeline/ColumnTransformer box that is\n",
       "clickable and can be expanded/collapsed.\n",
       "- Pipeline and ColumnTransformer use this feature and define the default style\n",
       "- Estimators will overwrite some part of the style using the `sk-estimator` class\n",
       "*/\n",
       "\n",
       "/* Pipeline and ColumnTransformer style (default) */\n",
       "\n",
       "#sk-container-id-1 div.sk-toggleable {\n",
       "  /* Default theme specific background. It is overwritten whether we have a\n",
       "  specific estimator or a Pipeline/ColumnTransformer */\n",
       "  background-color: var(--sklearn-color-background);\n",
       "}\n",
       "\n",
       "/* Toggleable label */\n",
       "#sk-container-id-1 label.sk-toggleable__label {\n",
       "  cursor: pointer;\n",
       "  display: flex;\n",
       "  width: 100%;\n",
       "  margin-bottom: 0;\n",
       "  padding: 0.5em;\n",
       "  box-sizing: border-box;\n",
       "  text-align: center;\n",
       "  align-items: start;\n",
       "  justify-content: space-between;\n",
       "  gap: 0.5em;\n",
       "}\n",
       "\n",
       "#sk-container-id-1 label.sk-toggleable__label .caption {\n",
       "  font-size: 0.6rem;\n",
       "  font-weight: lighter;\n",
       "  color: var(--sklearn-color-text-muted);\n",
       "}\n",
       "\n",
       "#sk-container-id-1 label.sk-toggleable__label-arrow:before {\n",
       "  /* Arrow on the left of the label */\n",
       "  content: \"▸\";\n",
       "  float: left;\n",
       "  margin-right: 0.25em;\n",
       "  color: var(--sklearn-color-icon);\n",
       "}\n",
       "\n",
       "#sk-container-id-1 label.sk-toggleable__label-arrow:hover:before {\n",
       "  color: var(--sklearn-color-text);\n",
       "}\n",
       "\n",
       "/* Toggleable content - dropdown */\n",
       "\n",
       "#sk-container-id-1 div.sk-toggleable__content {\n",
       "  max-height: 0;\n",
       "  max-width: 0;\n",
       "  overflow: hidden;\n",
       "  text-align: left;\n",
       "  /* unfitted */\n",
       "  background-color: var(--sklearn-color-unfitted-level-0);\n",
       "}\n",
       "\n",
       "#sk-container-id-1 div.sk-toggleable__content.fitted {\n",
       "  /* fitted */\n",
       "  background-color: var(--sklearn-color-fitted-level-0);\n",
       "}\n",
       "\n",
       "#sk-container-id-1 div.sk-toggleable__content pre {\n",
       "  margin: 0.2em;\n",
       "  border-radius: 0.25em;\n",
       "  color: var(--sklearn-color-text);\n",
       "  /* unfitted */\n",
       "  background-color: var(--sklearn-color-unfitted-level-0);\n",
       "}\n",
       "\n",
       "#sk-container-id-1 div.sk-toggleable__content.fitted pre {\n",
       "  /* unfitted */\n",
       "  background-color: var(--sklearn-color-fitted-level-0);\n",
       "}\n",
       "\n",
       "#sk-container-id-1 input.sk-toggleable__control:checked~div.sk-toggleable__content {\n",
       "  /* Expand drop-down */\n",
       "  max-height: 200px;\n",
       "  max-width: 100%;\n",
       "  overflow: auto;\n",
       "}\n",
       "\n",
       "#sk-container-id-1 input.sk-toggleable__control:checked~label.sk-toggleable__label-arrow:before {\n",
       "  content: \"▾\";\n",
       "}\n",
       "\n",
       "/* Pipeline/ColumnTransformer-specific style */\n",
       "\n",
       "#sk-container-id-1 div.sk-label input.sk-toggleable__control:checked~label.sk-toggleable__label {\n",
       "  color: var(--sklearn-color-text);\n",
       "  background-color: var(--sklearn-color-unfitted-level-2);\n",
       "}\n",
       "\n",
       "#sk-container-id-1 div.sk-label.fitted input.sk-toggleable__control:checked~label.sk-toggleable__label {\n",
       "  background-color: var(--sklearn-color-fitted-level-2);\n",
       "}\n",
       "\n",
       "/* Estimator-specific style */\n",
       "\n",
       "/* Colorize estimator box */\n",
       "#sk-container-id-1 div.sk-estimator input.sk-toggleable__control:checked~label.sk-toggleable__label {\n",
       "  /* unfitted */\n",
       "  background-color: var(--sklearn-color-unfitted-level-2);\n",
       "}\n",
       "\n",
       "#sk-container-id-1 div.sk-estimator.fitted input.sk-toggleable__control:checked~label.sk-toggleable__label {\n",
       "  /* fitted */\n",
       "  background-color: var(--sklearn-color-fitted-level-2);\n",
       "}\n",
       "\n",
       "#sk-container-id-1 div.sk-label label.sk-toggleable__label,\n",
       "#sk-container-id-1 div.sk-label label {\n",
       "  /* The background is the default theme color */\n",
       "  color: var(--sklearn-color-text-on-default-background);\n",
       "}\n",
       "\n",
       "/* On hover, darken the color of the background */\n",
       "#sk-container-id-1 div.sk-label:hover label.sk-toggleable__label {\n",
       "  color: var(--sklearn-color-text);\n",
       "  background-color: var(--sklearn-color-unfitted-level-2);\n",
       "}\n",
       "\n",
       "/* Label box, darken color on hover, fitted */\n",
       "#sk-container-id-1 div.sk-label.fitted:hover label.sk-toggleable__label.fitted {\n",
       "  color: var(--sklearn-color-text);\n",
       "  background-color: var(--sklearn-color-fitted-level-2);\n",
       "}\n",
       "\n",
       "/* Estimator label */\n",
       "\n",
       "#sk-container-id-1 div.sk-label label {\n",
       "  font-family: monospace;\n",
       "  font-weight: bold;\n",
       "  display: inline-block;\n",
       "  line-height: 1.2em;\n",
       "}\n",
       "\n",
       "#sk-container-id-1 div.sk-label-container {\n",
       "  text-align: center;\n",
       "}\n",
       "\n",
       "/* Estimator-specific */\n",
       "#sk-container-id-1 div.sk-estimator {\n",
       "  font-family: monospace;\n",
       "  border: 1px dotted var(--sklearn-color-border-box);\n",
       "  border-radius: 0.25em;\n",
       "  box-sizing: border-box;\n",
       "  margin-bottom: 0.5em;\n",
       "  /* unfitted */\n",
       "  background-color: var(--sklearn-color-unfitted-level-0);\n",
       "}\n",
       "\n",
       "#sk-container-id-1 div.sk-estimator.fitted {\n",
       "  /* fitted */\n",
       "  background-color: var(--sklearn-color-fitted-level-0);\n",
       "}\n",
       "\n",
       "/* on hover */\n",
       "#sk-container-id-1 div.sk-estimator:hover {\n",
       "  /* unfitted */\n",
       "  background-color: var(--sklearn-color-unfitted-level-2);\n",
       "}\n",
       "\n",
       "#sk-container-id-1 div.sk-estimator.fitted:hover {\n",
       "  /* fitted */\n",
       "  background-color: var(--sklearn-color-fitted-level-2);\n",
       "}\n",
       "\n",
       "/* Specification for estimator info (e.g. \"i\" and \"?\") */\n",
       "\n",
       "/* Common style for \"i\" and \"?\" */\n",
       "\n",
       ".sk-estimator-doc-link,\n",
       "a:link.sk-estimator-doc-link,\n",
       "a:visited.sk-estimator-doc-link {\n",
       "  float: right;\n",
       "  font-size: smaller;\n",
       "  line-height: 1em;\n",
       "  font-family: monospace;\n",
       "  background-color: var(--sklearn-color-background);\n",
       "  border-radius: 1em;\n",
       "  height: 1em;\n",
       "  width: 1em;\n",
       "  text-decoration: none !important;\n",
       "  margin-left: 0.5em;\n",
       "  text-align: center;\n",
       "  /* unfitted */\n",
       "  border: var(--sklearn-color-unfitted-level-1) 1pt solid;\n",
       "  color: var(--sklearn-color-unfitted-level-1);\n",
       "}\n",
       "\n",
       ".sk-estimator-doc-link.fitted,\n",
       "a:link.sk-estimator-doc-link.fitted,\n",
       "a:visited.sk-estimator-doc-link.fitted {\n",
       "  /* fitted */\n",
       "  border: var(--sklearn-color-fitted-level-1) 1pt solid;\n",
       "  color: var(--sklearn-color-fitted-level-1);\n",
       "}\n",
       "\n",
       "/* On hover */\n",
       "div.sk-estimator:hover .sk-estimator-doc-link:hover,\n",
       ".sk-estimator-doc-link:hover,\n",
       "div.sk-label-container:hover .sk-estimator-doc-link:hover,\n",
       ".sk-estimator-doc-link:hover {\n",
       "  /* unfitted */\n",
       "  background-color: var(--sklearn-color-unfitted-level-3);\n",
       "  color: var(--sklearn-color-background);\n",
       "  text-decoration: none;\n",
       "}\n",
       "\n",
       "div.sk-estimator.fitted:hover .sk-estimator-doc-link.fitted:hover,\n",
       ".sk-estimator-doc-link.fitted:hover,\n",
       "div.sk-label-container:hover .sk-estimator-doc-link.fitted:hover,\n",
       ".sk-estimator-doc-link.fitted:hover {\n",
       "  /* fitted */\n",
       "  background-color: var(--sklearn-color-fitted-level-3);\n",
       "  color: var(--sklearn-color-background);\n",
       "  text-decoration: none;\n",
       "}\n",
       "\n",
       "/* Span, style for the box shown on hovering the info icon */\n",
       ".sk-estimator-doc-link span {\n",
       "  display: none;\n",
       "  z-index: 9999;\n",
       "  position: relative;\n",
       "  font-weight: normal;\n",
       "  right: .2ex;\n",
       "  padding: .5ex;\n",
       "  margin: .5ex;\n",
       "  width: min-content;\n",
       "  min-width: 20ex;\n",
       "  max-width: 50ex;\n",
       "  color: var(--sklearn-color-text);\n",
       "  box-shadow: 2pt 2pt 4pt #999;\n",
       "  /* unfitted */\n",
       "  background: var(--sklearn-color-unfitted-level-0);\n",
       "  border: .5pt solid var(--sklearn-color-unfitted-level-3);\n",
       "}\n",
       "\n",
       ".sk-estimator-doc-link.fitted span {\n",
       "  /* fitted */\n",
       "  background: var(--sklearn-color-fitted-level-0);\n",
       "  border: var(--sklearn-color-fitted-level-3);\n",
       "}\n",
       "\n",
       ".sk-estimator-doc-link:hover span {\n",
       "  display: block;\n",
       "}\n",
       "\n",
       "/* \"?\"-specific style due to the `<a>` HTML tag */\n",
       "\n",
       "#sk-container-id-1 a.estimator_doc_link {\n",
       "  float: right;\n",
       "  font-size: 1rem;\n",
       "  line-height: 1em;\n",
       "  font-family: monospace;\n",
       "  background-color: var(--sklearn-color-background);\n",
       "  border-radius: 1rem;\n",
       "  height: 1rem;\n",
       "  width: 1rem;\n",
       "  text-decoration: none;\n",
       "  /* unfitted */\n",
       "  color: var(--sklearn-color-unfitted-level-1);\n",
       "  border: var(--sklearn-color-unfitted-level-1) 1pt solid;\n",
       "}\n",
       "\n",
       "#sk-container-id-1 a.estimator_doc_link.fitted {\n",
       "  /* fitted */\n",
       "  border: var(--sklearn-color-fitted-level-1) 1pt solid;\n",
       "  color: var(--sklearn-color-fitted-level-1);\n",
       "}\n",
       "\n",
       "/* On hover */\n",
       "#sk-container-id-1 a.estimator_doc_link:hover {\n",
       "  /* unfitted */\n",
       "  background-color: var(--sklearn-color-unfitted-level-3);\n",
       "  color: var(--sklearn-color-background);\n",
       "  text-decoration: none;\n",
       "}\n",
       "\n",
       "#sk-container-id-1 a.estimator_doc_link.fitted:hover {\n",
       "  /* fitted */\n",
       "  background-color: var(--sklearn-color-fitted-level-3);\n",
       "}\n",
       "</style><div id=\"sk-container-id-1\" class=\"sk-top-container\"><div class=\"sk-text-repr-fallback\"><pre>Ridge(alpha=100.0)</pre><b>In a Jupyter environment, please rerun this cell to show the HTML representation or trust the notebook. <br />On GitHub, the HTML representation is unable to render, please try loading this page with nbviewer.org.</b></div><div class=\"sk-container\" hidden><div class=\"sk-item\"><div class=\"sk-estimator fitted sk-toggleable\"><input class=\"sk-toggleable__control sk-hidden--visually\" id=\"sk-estimator-id-1\" type=\"checkbox\" checked><label for=\"sk-estimator-id-1\" class=\"sk-toggleable__label fitted sk-toggleable__label-arrow\"><div><div>Ridge</div></div><div><a class=\"sk-estimator-doc-link fitted\" rel=\"noreferrer\" target=\"_blank\" href=\"https://scikit-learn.org/1.6/modules/generated/sklearn.linear_model.Ridge.html\">?<span>Documentation for Ridge</span></a><span class=\"sk-estimator-doc-link fitted\">i<span>Fitted</span></span></div></label><div class=\"sk-toggleable__content fitted\"><pre>Ridge(alpha=100.0)</pre></div> </div></div></div></div>"
      ],
      "text/plain": [
       "Ridge(alpha=100.0)"
      ]
     },
     "execution_count": 20,
     "metadata": {},
     "output_type": "execute_result"
    }
   ],
   "source": [
    "ridge_reg.fit(X,Y)"
   ]
  },
  {
   "cell_type": "code",
   "execution_count": 21,
   "id": "-7yvvqw8iStE",
   "metadata": {
    "colab": {
     "base_uri": "https://localhost:8080/",
     "height": 662
    },
    "executionInfo": {
     "elapsed": 251,
     "status": "ok",
     "timestamp": 1737449248845,
     "user": {
      "displayName": "Vincent Feuillard",
      "userId": "08003397047991684898"
     },
     "user_tz": -60
    },
    "id": "-7yvvqw8iStE",
    "outputId": "86dc06d6-6ded-462a-9ceb-42fac4602363"
   },
   "outputs": [
    {
     "name": "stdout",
     "output_type": "stream",
     "text": [
      "0.7613645668047764\n"
     ]
    },
    {
     "data": {
      "application/vnd.google.colaboratory.intrinsic+json": {
       "summary": "{\n  \"name\": \")\",\n  \"rows\": 19,\n  \"fields\": [\n    {\n      \"column\": \"true\",\n      \"properties\": {\n        \"dtype\": \"number\",\n        \"std\": 1.3230303687841585,\n        \"min\": 0.0,\n        \"max\": 4.0,\n        \"num_unique_values\": 10,\n        \"samples\": [\n          3.2,\n          0.8,\n          2.2\n        ],\n        \"semantic_type\": \"\",\n        \"description\": \"\"\n      }\n    },\n    {\n      \"column\": \"coef_lr\",\n      \"properties\": {\n        \"dtype\": \"number\",\n        \"std\": 1.3838333218482326,\n        \"min\": -0.5114833131441785,\n        \"max\": 4.13527167600787,\n        \"num_unique_values\": 19,\n        \"samples\": [\n          0.17160519094814597,\n          0.3257480895269847,\n          -0.4117149788236298\n        ],\n        \"semantic_type\": \"\",\n        \"description\": \"\"\n      }\n    },\n    {\n      \"column\": \"coef_ridge\",\n      \"properties\": {\n        \"dtype\": \"number\",\n        \"std\": 0.6228976252123946,\n        \"min\": -0.4001736577195418,\n        \"max\": 1.8247211031734116,\n        \"num_unique_values\": 19,\n        \"samples\": [\n          0.25455785224533783,\n          0.09080182372915664,\n          -0.4001736577195418\n        ],\n        \"semantic_type\": \"\",\n        \"description\": \"\"\n      }\n    }\n  ]\n}",
       "type": "dataframe"
      },
      "text/html": [
       "\n",
       "  <div id=\"df-893d7771-6fa2-4ed2-911c-c929d85b7da4\" class=\"colab-df-container\">\n",
       "    <div>\n",
       "<style scoped>\n",
       "    .dataframe tbody tr th:only-of-type {\n",
       "        vertical-align: middle;\n",
       "    }\n",
       "\n",
       "    .dataframe tbody tr th {\n",
       "        vertical-align: top;\n",
       "    }\n",
       "\n",
       "    .dataframe thead th {\n",
       "        text-align: right;\n",
       "    }\n",
       "</style>\n",
       "<table border=\"1\" class=\"dataframe\">\n",
       "  <thead>\n",
       "    <tr style=\"text-align: right;\">\n",
       "      <th></th>\n",
       "      <th>true</th>\n",
       "      <th>coef_lr</th>\n",
       "      <th>coef_ridge</th>\n",
       "    </tr>\n",
       "  </thead>\n",
       "  <tbody>\n",
       "    <tr>\n",
       "      <th>0</th>\n",
       "      <td>0.0</td>\n",
       "      <td>0.171605</td>\n",
       "      <td>0.254558</td>\n",
       "    </tr>\n",
       "    <tr>\n",
       "      <th>1</th>\n",
       "      <td>0.0</td>\n",
       "      <td>-0.073386</td>\n",
       "      <td>-0.000889</td>\n",
       "    </tr>\n",
       "    <tr>\n",
       "      <th>2</th>\n",
       "      <td>0.8</td>\n",
       "      <td>0.494282</td>\n",
       "      <td>0.374054</td>\n",
       "    </tr>\n",
       "    <tr>\n",
       "      <th>3</th>\n",
       "      <td>0.0</td>\n",
       "      <td>-0.229838</td>\n",
       "      <td>0.200341</td>\n",
       "    </tr>\n",
       "    <tr>\n",
       "      <th>4</th>\n",
       "      <td>1.2</td>\n",
       "      <td>0.680883</td>\n",
       "      <td>0.241444</td>\n",
       "    </tr>\n",
       "    <tr>\n",
       "      <th>5</th>\n",
       "      <td>0.0</td>\n",
       "      <td>0.325748</td>\n",
       "      <td>0.090802</td>\n",
       "    </tr>\n",
       "    <tr>\n",
       "      <th>6</th>\n",
       "      <td>1.6</td>\n",
       "      <td>1.050978</td>\n",
       "      <td>0.604742</td>\n",
       "    </tr>\n",
       "    <tr>\n",
       "      <th>7</th>\n",
       "      <td>1.8</td>\n",
       "      <td>2.432150</td>\n",
       "      <td>0.936977</td>\n",
       "    </tr>\n",
       "    <tr>\n",
       "      <th>8</th>\n",
       "      <td>0.0</td>\n",
       "      <td>-0.319791</td>\n",
       "      <td>0.037479</td>\n",
       "    </tr>\n",
       "    <tr>\n",
       "      <th>9</th>\n",
       "      <td>2.2</td>\n",
       "      <td>2.253065</td>\n",
       "      <td>0.918845</td>\n",
       "    </tr>\n",
       "    <tr>\n",
       "      <th>10</th>\n",
       "      <td>2.4</td>\n",
       "      <td>2.929167</td>\n",
       "      <td>1.185610</td>\n",
       "    </tr>\n",
       "    <tr>\n",
       "      <th>11</th>\n",
       "      <td>0.0</td>\n",
       "      <td>-0.411715</td>\n",
       "      <td>-0.400174</td>\n",
       "    </tr>\n",
       "    <tr>\n",
       "      <th>12</th>\n",
       "      <td>2.8</td>\n",
       "      <td>2.487975</td>\n",
       "      <td>1.175933</td>\n",
       "    </tr>\n",
       "    <tr>\n",
       "      <th>13</th>\n",
       "      <td>0.0</td>\n",
       "      <td>-0.041501</td>\n",
       "      <td>-0.305700</td>\n",
       "    </tr>\n",
       "    <tr>\n",
       "      <th>14</th>\n",
       "      <td>3.2</td>\n",
       "      <td>2.787640</td>\n",
       "      <td>1.445028</td>\n",
       "    </tr>\n",
       "    <tr>\n",
       "      <th>15</th>\n",
       "      <td>0.0</td>\n",
       "      <td>0.533682</td>\n",
       "      <td>0.368618</td>\n",
       "    </tr>\n",
       "    <tr>\n",
       "      <th>16</th>\n",
       "      <td>0.0</td>\n",
       "      <td>-0.511483</td>\n",
       "      <td>-0.159337</td>\n",
       "    </tr>\n",
       "    <tr>\n",
       "      <th>17</th>\n",
       "      <td>0.0</td>\n",
       "      <td>0.367308</td>\n",
       "      <td>-0.033032</td>\n",
       "    </tr>\n",
       "    <tr>\n",
       "      <th>18</th>\n",
       "      <td>4.0</td>\n",
       "      <td>4.135272</td>\n",
       "      <td>1.824721</td>\n",
       "    </tr>\n",
       "  </tbody>\n",
       "</table>\n",
       "</div>\n",
       "    <div class=\"colab-df-buttons\">\n",
       "\n",
       "  <div class=\"colab-df-container\">\n",
       "    <button class=\"colab-df-convert\" onclick=\"convertToInteractive('df-893d7771-6fa2-4ed2-911c-c929d85b7da4')\"\n",
       "            title=\"Convert this dataframe to an interactive table.\"\n",
       "            style=\"display:none;\">\n",
       "\n",
       "  <svg xmlns=\"http://www.w3.org/2000/svg\" height=\"24px\" viewBox=\"0 -960 960 960\">\n",
       "    <path d=\"M120-120v-720h720v720H120Zm60-500h600v-160H180v160Zm220 220h160v-160H400v160Zm0 220h160v-160H400v160ZM180-400h160v-160H180v160Zm440 0h160v-160H620v160ZM180-180h160v-160H180v160Zm440 0h160v-160H620v160Z\"/>\n",
       "  </svg>\n",
       "    </button>\n",
       "\n",
       "  <style>\n",
       "    .colab-df-container {\n",
       "      display:flex;\n",
       "      gap: 12px;\n",
       "    }\n",
       "\n",
       "    .colab-df-convert {\n",
       "      background-color: #E8F0FE;\n",
       "      border: none;\n",
       "      border-radius: 50%;\n",
       "      cursor: pointer;\n",
       "      display: none;\n",
       "      fill: #1967D2;\n",
       "      height: 32px;\n",
       "      padding: 0 0 0 0;\n",
       "      width: 32px;\n",
       "    }\n",
       "\n",
       "    .colab-df-convert:hover {\n",
       "      background-color: #E2EBFA;\n",
       "      box-shadow: 0px 1px 2px rgba(60, 64, 67, 0.3), 0px 1px 3px 1px rgba(60, 64, 67, 0.15);\n",
       "      fill: #174EA6;\n",
       "    }\n",
       "\n",
       "    .colab-df-buttons div {\n",
       "      margin-bottom: 4px;\n",
       "    }\n",
       "\n",
       "    [theme=dark] .colab-df-convert {\n",
       "      background-color: #3B4455;\n",
       "      fill: #D2E3FC;\n",
       "    }\n",
       "\n",
       "    [theme=dark] .colab-df-convert:hover {\n",
       "      background-color: #434B5C;\n",
       "      box-shadow: 0px 1px 3px 1px rgba(0, 0, 0, 0.15);\n",
       "      filter: drop-shadow(0px 1px 2px rgba(0, 0, 0, 0.3));\n",
       "      fill: #FFFFFF;\n",
       "    }\n",
       "  </style>\n",
       "\n",
       "    <script>\n",
       "      const buttonEl =\n",
       "        document.querySelector('#df-893d7771-6fa2-4ed2-911c-c929d85b7da4 button.colab-df-convert');\n",
       "      buttonEl.style.display =\n",
       "        google.colab.kernel.accessAllowed ? 'block' : 'none';\n",
       "\n",
       "      async function convertToInteractive(key) {\n",
       "        const element = document.querySelector('#df-893d7771-6fa2-4ed2-911c-c929d85b7da4');\n",
       "        const dataTable =\n",
       "          await google.colab.kernel.invokeFunction('convertToInteractive',\n",
       "                                                    [key], {});\n",
       "        if (!dataTable) return;\n",
       "\n",
       "        const docLinkHtml = 'Like what you see? Visit the ' +\n",
       "          '<a target=\"_blank\" href=https://colab.research.google.com/notebooks/data_table.ipynb>data table notebook</a>'\n",
       "          + ' to learn more about interactive tables.';\n",
       "        element.innerHTML = '';\n",
       "        dataTable['output_type'] = 'display_data';\n",
       "        await google.colab.output.renderOutput(dataTable, element);\n",
       "        const docLink = document.createElement('div');\n",
       "        docLink.innerHTML = docLinkHtml;\n",
       "        element.appendChild(docLink);\n",
       "      }\n",
       "    </script>\n",
       "  </div>\n",
       "\n",
       "\n",
       "<div id=\"df-a03fea52-c0ad-40c5-bef5-4250691d0e45\">\n",
       "  <button class=\"colab-df-quickchart\" onclick=\"quickchart('df-a03fea52-c0ad-40c5-bef5-4250691d0e45')\"\n",
       "            title=\"Suggest charts\"\n",
       "            style=\"display:none;\">\n",
       "\n",
       "<svg xmlns=\"http://www.w3.org/2000/svg\" height=\"24px\"viewBox=\"0 0 24 24\"\n",
       "     width=\"24px\">\n",
       "    <g>\n",
       "        <path d=\"M19 3H5c-1.1 0-2 .9-2 2v14c0 1.1.9 2 2 2h14c1.1 0 2-.9 2-2V5c0-1.1-.9-2-2-2zM9 17H7v-7h2v7zm4 0h-2V7h2v10zm4 0h-2v-4h2v4z\"/>\n",
       "    </g>\n",
       "</svg>\n",
       "  </button>\n",
       "\n",
       "<style>\n",
       "  .colab-df-quickchart {\n",
       "      --bg-color: #E8F0FE;\n",
       "      --fill-color: #1967D2;\n",
       "      --hover-bg-color: #E2EBFA;\n",
       "      --hover-fill-color: #174EA6;\n",
       "      --disabled-fill-color: #AAA;\n",
       "      --disabled-bg-color: #DDD;\n",
       "  }\n",
       "\n",
       "  [theme=dark] .colab-df-quickchart {\n",
       "      --bg-color: #3B4455;\n",
       "      --fill-color: #D2E3FC;\n",
       "      --hover-bg-color: #434B5C;\n",
       "      --hover-fill-color: #FFFFFF;\n",
       "      --disabled-bg-color: #3B4455;\n",
       "      --disabled-fill-color: #666;\n",
       "  }\n",
       "\n",
       "  .colab-df-quickchart {\n",
       "    background-color: var(--bg-color);\n",
       "    border: none;\n",
       "    border-radius: 50%;\n",
       "    cursor: pointer;\n",
       "    display: none;\n",
       "    fill: var(--fill-color);\n",
       "    height: 32px;\n",
       "    padding: 0;\n",
       "    width: 32px;\n",
       "  }\n",
       "\n",
       "  .colab-df-quickchart:hover {\n",
       "    background-color: var(--hover-bg-color);\n",
       "    box-shadow: 0 1px 2px rgba(60, 64, 67, 0.3), 0 1px 3px 1px rgba(60, 64, 67, 0.15);\n",
       "    fill: var(--button-hover-fill-color);\n",
       "  }\n",
       "\n",
       "  .colab-df-quickchart-complete:disabled,\n",
       "  .colab-df-quickchart-complete:disabled:hover {\n",
       "    background-color: var(--disabled-bg-color);\n",
       "    fill: var(--disabled-fill-color);\n",
       "    box-shadow: none;\n",
       "  }\n",
       "\n",
       "  .colab-df-spinner {\n",
       "    border: 2px solid var(--fill-color);\n",
       "    border-color: transparent;\n",
       "    border-bottom-color: var(--fill-color);\n",
       "    animation:\n",
       "      spin 1s steps(1) infinite;\n",
       "  }\n",
       "\n",
       "  @keyframes spin {\n",
       "    0% {\n",
       "      border-color: transparent;\n",
       "      border-bottom-color: var(--fill-color);\n",
       "      border-left-color: var(--fill-color);\n",
       "    }\n",
       "    20% {\n",
       "      border-color: transparent;\n",
       "      border-left-color: var(--fill-color);\n",
       "      border-top-color: var(--fill-color);\n",
       "    }\n",
       "    30% {\n",
       "      border-color: transparent;\n",
       "      border-left-color: var(--fill-color);\n",
       "      border-top-color: var(--fill-color);\n",
       "      border-right-color: var(--fill-color);\n",
       "    }\n",
       "    40% {\n",
       "      border-color: transparent;\n",
       "      border-right-color: var(--fill-color);\n",
       "      border-top-color: var(--fill-color);\n",
       "    }\n",
       "    60% {\n",
       "      border-color: transparent;\n",
       "      border-right-color: var(--fill-color);\n",
       "    }\n",
       "    80% {\n",
       "      border-color: transparent;\n",
       "      border-right-color: var(--fill-color);\n",
       "      border-bottom-color: var(--fill-color);\n",
       "    }\n",
       "    90% {\n",
       "      border-color: transparent;\n",
       "      border-bottom-color: var(--fill-color);\n",
       "    }\n",
       "  }\n",
       "</style>\n",
       "\n",
       "  <script>\n",
       "    async function quickchart(key) {\n",
       "      const quickchartButtonEl =\n",
       "        document.querySelector('#' + key + ' button');\n",
       "      quickchartButtonEl.disabled = true;  // To prevent multiple clicks.\n",
       "      quickchartButtonEl.classList.add('colab-df-spinner');\n",
       "      try {\n",
       "        const charts = await google.colab.kernel.invokeFunction(\n",
       "            'suggestCharts', [key], {});\n",
       "      } catch (error) {\n",
       "        console.error('Error during call to suggestCharts:', error);\n",
       "      }\n",
       "      quickchartButtonEl.classList.remove('colab-df-spinner');\n",
       "      quickchartButtonEl.classList.add('colab-df-quickchart-complete');\n",
       "    }\n",
       "    (() => {\n",
       "      let quickchartButtonEl =\n",
       "        document.querySelector('#df-a03fea52-c0ad-40c5-bef5-4250691d0e45 button');\n",
       "      quickchartButtonEl.style.display =\n",
       "        google.colab.kernel.accessAllowed ? 'block' : 'none';\n",
       "    })();\n",
       "  </script>\n",
       "</div>\n",
       "\n",
       "    </div>\n",
       "  </div>\n"
      ],
      "text/plain": [
       "    true   coef_lr  coef_ridge\n",
       "0    0.0  0.171605    0.254558\n",
       "1    0.0 -0.073386   -0.000889\n",
       "2    0.8  0.494282    0.374054\n",
       "3    0.0 -0.229838    0.200341\n",
       "4    1.2  0.680883    0.241444\n",
       "5    0.0  0.325748    0.090802\n",
       "6    1.6  1.050978    0.604742\n",
       "7    1.8  2.432150    0.936977\n",
       "8    0.0 -0.319791    0.037479\n",
       "9    2.2  2.253065    0.918845\n",
       "10   2.4  2.929167    1.185610\n",
       "11   0.0 -0.411715   -0.400174\n",
       "12   2.8  2.487975    1.175933\n",
       "13   0.0 -0.041501   -0.305700\n",
       "14   3.2  2.787640    1.445028\n",
       "15   0.0  0.533682    0.368618\n",
       "16   0.0 -0.511483   -0.159337\n",
       "17   0.0  0.367308   -0.033032\n",
       "18   4.0  4.135272    1.824721"
      ]
     },
     "execution_count": 21,
     "metadata": {},
     "output_type": "execute_result"
    }
   ],
   "source": [
    "print(LR.score(X,Y))\n",
    "#print(LR.coef_[ind_null])\n",
    "pd.DataFrame(\n",
    "    np.array([\n",
    "        beta,\n",
    "        LR.coef_,\n",
    "        ridge_reg.coef_]).transpose(),\n",
    "    columns = [\"true\",\"coef_lr\",\"coef_ridge\"]\n",
    ")"
   ]
  },
  {
   "cell_type": "code",
   "execution_count": 22,
   "id": "kqoIlIx-jJLy",
   "metadata": {
    "executionInfo": {
     "elapsed": 316,
     "status": "ok",
     "timestamp": 1737449335458,
     "user": {
      "displayName": "Vincent Feuillard",
      "userId": "08003397047991684898"
     },
     "user_tz": -60
    },
    "id": "kqoIlIx-jJLy"
   },
   "outputs": [],
   "source": [
    "n_alphas = 200\n",
    "alphas = np.logspace(-1, 3.5, n_alphas)\n",
    "\n",
    "coefs = []\n",
    "for a in alphas:\n",
    "    ridge = Ridge(alpha=a)\n",
    "    ridge.fit(X, Y)\n",
    "    #coefs.append(ridge.coef_/np.sqrt(np.sum(ridge.coef_**2)))\n",
    "    coefs.append(ridge.coef_)"
   ]
  },
  {
   "cell_type": "code",
   "execution_count": 23,
   "id": "Nf4YEEDujUmH",
   "metadata": {
    "colab": {
     "base_uri": "https://localhost:8080/",
     "height": 463
    },
    "executionInfo": {
     "elapsed": 1309,
     "status": "ok",
     "timestamp": 1737449337828,
     "user": {
      "displayName": "Vincent Feuillard",
      "userId": "08003397047991684898"
     },
     "user_tz": -60
    },
    "id": "Nf4YEEDujUmH",
    "outputId": "5db8424f-9c3e-447a-c799-5ffa7b80281f"
   },
   "outputs": [
    {
     "data": {
      "text/plain": [
       "<matplotlib.collections.LineCollection at 0x795175948e50>"
      ]
     },
     "execution_count": 23,
     "metadata": {},
     "output_type": "execute_result"
    },
    {
     "data": {
      "image/png": "[encoded data removed]",
      "text/plain": [
       "<Figure size 640x480 with 1 Axes>"
      ]
     },
     "metadata": {},
     "output_type": "display_data"
    }
   ],
   "source": [
    "cm = plt.get_cmap('gist_rainbow')\n",
    "color=[cm(1.*i/10) for i in range(10)]\n",
    "j=0\n",
    "\n",
    "for i in range(19):\n",
    "    if i in ind_null:\n",
    "        c = \"gray\"\n",
    "        plt.plot(alphas,np.array(coefs)[:,i],color=c,linestyle=\"--\")\n",
    "    if i in ind_non_null:\n",
    "        c = color[j]\n",
    "        j+=1\n",
    "        plt.plot(alphas,np.array(coefs)[:,i],color=c,linestyle=\"--\")\n",
    "\n",
    "plt.gca().set_xscale('log')\n",
    "plt.legend([f\"comp {i}; theta = {beta_i}\" for (i,beta_i) in zip(range(len(beta)),beta)]\n",
    "           ,bbox_to_anchor=(1.1, 1.05))\n",
    "\n",
    "from sklearn.linear_model import RidgeCV\n",
    "ridge_cv = RidgeCV(alphas=alphas).fit(X, Y)\n",
    "plt.vlines(ridge_cv.alpha_,np.min(coefs),np.max(coefs),color=\"k\")"
   ]
  },
  {
   "cell_type": "markdown",
   "id": "39e3a059-a4ec-4bf3-9fca-0ddf09c03a45",
   "metadata": {
    "id": "39e3a059-a4ec-4bf3-9fca-0ddf09c03a45"
   },
   "source": [
    "___\n",
    "# Régression LASSO"
   ]
  },
  {
   "cell_type": "markdown",
   "id": "72edf093-9c78-4be8-9155-74897d729cf3",
   "metadata": {
    "id": "72edf093-9c78-4be8-9155-74897d729cf3"
   },
   "source": [
    "## Rappel \\& Principe\n",
    "\n",
    "**La pénalité $\\ell^2$ de la régression Ridge permet de réduire tous les coefficients vers 0 mais il n'y aura pas de sous ensemble nuls.**\n",
    "\n",
    "***$\\Rightarrow$ Ainsi au lieu d'utiliser une pénalisation $\\ell^2$, on utilise ici une pénalisation de type $\\ell^1$. Cela permet bien d'avoir des sous-ensembles de coefficients nuls.***\n",
    "\n",
    "* Pour la régression LASSO, on cherche à minimiser :\n",
    "$$\n",
    "\\hat{\\beta} = \\arg \\min \\left\\{\\sum_{i=1}^n \\Big(Y_i - \\beta_0 - \\beta_1 X_i^{(1)} - \\ldots -\\beta_p X_i^{(p)}\\Big)^2\n",
    "+\n",
    "\\lambda\n",
    "\\sum_{j=1}^p|\\beta_j|\n",
    "\\right\\}\n",
    "$$"
   ]
  },
  {
   "cell_type": "markdown",
   "id": "4aa70b3d-f872-4aed-b9e9-c22fcb35fcb6",
   "metadata": {
    "id": "4aa70b3d-f872-4aed-b9e9-c22fcb35fcb6"
   },
   "source": [
    "## Application\n",
    "\n",
    "a) Appliquer la régression LASSO\n",
    "\n",
    "b) Visualiser l'évolotion de l'estimation des coefficients en fonction de la valeur de $\\lambda$"
   ]
  },
  {
   "cell_type": "code",
   "execution_count": 24,
   "id": "oI7nMnEgm6u1",
   "metadata": {
    "executionInfo": {
     "elapsed": 280,
     "status": "ok",
     "timestamp": 1737449378367,
     "user": {
      "displayName": "Vincent Feuillard",
      "userId": "08003397047991684898"
     },
     "user_tz": -60
    },
    "id": "oI7nMnEgm6u1"
   },
   "outputs": [],
   "source": [
    "from sklearn.linear_model import Lasso"
   ]
  },
  {
   "cell_type": "code",
   "execution_count": 25,
   "id": "860dcae8-bd11-4022-a545-e23cd3445c31",
   "metadata": {
    "executionInfo": {
     "elapsed": 299,
     "status": "ok",
     "timestamp": 1737449378945,
     "user": {
      "displayName": "Vincent Feuillard",
      "userId": "08003397047991684898"
     },
     "user_tz": -60
    },
    "id": "860dcae8-bd11-4022-a545-e23cd3445c31"
   },
   "outputs": [],
   "source": [
    "n_alphas = 200\n",
    "alphas = np.logspace(-1, 1, n_alphas)\n",
    "\n",
    "coefs = []\n",
    "for a in alphas:\n",
    "    lasso = Lasso(alpha=a)\n",
    "    lasso.fit(X, Y)\n",
    "    #coefs.append(ridge.coef_/np.sqrt(np.sum(ridge.coef_**2)))\n",
    "    coefs.append(lasso.coef_)"
   ]
  },
  {
   "cell_type": "code",
   "execution_count": 26,
   "id": "0elTJCmNm8hO",
   "metadata": {
    "colab": {
     "base_uri": "https://localhost:8080/",
     "height": 463
    },
    "executionInfo": {
     "elapsed": 1169,
     "status": "ok",
     "timestamp": 1737449381022,
     "user": {
      "displayName": "Vincent Feuillard",
      "userId": "08003397047991684898"
     },
     "user_tz": -60
    },
    "id": "0elTJCmNm8hO",
    "outputId": "218a47c3-48c7-4d32-f091-61bdc1a85b0f"
   },
   "outputs": [
    {
     "data": {
      "text/plain": [
       "<matplotlib.collections.LineCollection at 0x79517567f390>"
      ]
     },
     "execution_count": 26,
     "metadata": {},
     "output_type": "execute_result"
    },
    {
     "data": {
      "image/png": "[encoded data removed]",
      "text/plain": [
       "<Figure size 640x480 with 1 Axes>"
      ]
     },
     "metadata": {},
     "output_type": "display_data"
    }
   ],
   "source": [
    "cm = plt.get_cmap('gist_rainbow')\n",
    "color=[cm(1.*i/10) for i in range(10)]\n",
    "j=0\n",
    "\n",
    "for i in range(19):\n",
    "    if i in ind_null:\n",
    "        c = \"gray\"\n",
    "        plt.plot(alphas,np.array(coefs)[:,i],color=c,linestyle=\"--\")\n",
    "    if i in ind_non_null:\n",
    "        c = color[j]\n",
    "        j+=1\n",
    "        plt.plot(alphas,np.array(coefs)[:,i],color=c,linestyle=\"--\")\n",
    "\n",
    "plt.gca().set_xscale('log')\n",
    "plt.legend([f\"comp {i}; theta = {beta_i}\" for (i,beta_i) in zip(range(len(beta)),beta)]\n",
    "           ,bbox_to_anchor=(1.1, 1.05))\n",
    "\n",
    "from sklearn.linear_model import LassoCV\n",
    "lasso_cv = LassoCV(alphas=alphas).fit(X, Y)\n",
    "plt.vlines(lasso_cv.alpha_,\n",
    "           np.min(coefs),\n",
    "           np.max(coefs),\n",
    "           color=\"k\")"
   ]
  },
  {
   "cell_type": "code",
   "execution_count": null,
   "id": "ovVa2r-ing4L",
   "metadata": {
    "id": "ovVa2r-ing4L"
   },
   "outputs": [],
   "source": []
  }
 ],
 "metadata": {
  "colab": {
   "provenance": [],
   "toc_visible": true
  },
  "environment": {
   "kernel": "py310",
   "name": "tf2-gpu.2-6.m100",
   "type": "gcloud",
   "uri": "gcr.io/deeplearning-platform-release/tf2-gpu.2-6:m100"
  },
  "kernelspec": {
   "display_name": "PySpark (python3 - M)",
   "language": "python",
   "name": "pyspark2-boost"
  },
  "language_info": {
   "codemirror_mode": {
    "name": "ipython",
    "version": 3
   },
   "file_extension": ".py",
   "mimetype": "text/x-python",
   "name": "python",
   "nbconvert_exporter": "python",
   "pygments_lexer": "ipython3",
   "version": "3.7.12"
  }
 },
 "nbformat": 4,
 "nbformat_minor": 5
}
